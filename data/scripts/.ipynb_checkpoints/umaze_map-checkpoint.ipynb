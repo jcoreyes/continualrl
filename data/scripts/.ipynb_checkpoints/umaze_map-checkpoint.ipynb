{
 "cells": [
  {
   "cell_type": "code",
   "execution_count": 1,
   "metadata": {},
   "outputs": [],
   "source": [
    "%matplotlib inline\n",
    "import pickle\n",
    "import torch\n",
    "from os.path import join\n",
    "\n",
    "import numpy as np\n",
    "import matplotlib.pyplot as plt\n",
    "from mpl_toolkits.axes_grid1 import make_axes_locatable\n",
    "from matplotlib.ticker import MultipleLocator"
   ]
  },
  {
   "cell_type": "code",
   "execution_count": 2,
   "metadata": {},
   "outputs": [],
   "source": [
    "# DIRS\n",
    "proj_dir = '/home/suvansh/levine/continualrl'\n",
    "data_dir = join(proj_dir, 'data')\n",
    "umaze_dir = join(data_dir, 'dqn-ensemble-umaze')\n",
    "variant_dir = join(umaze_dir, 'dqn-ensemble-umaze_2019_08_11_01_09_29_0000--s-0')"
   ]
  },
  {
   "cell_type": "code",
   "execution_count": 3,
   "metadata": {},
   "outputs": [
    {
     "data": {
      "text/plain": [
       "dict_keys(['exploration/env', 'trainer/qf', 'exploration/policy', 'evaluation/policy', 'evaluation/env', 'trainer/target_qf'])"
      ]
     },
     "execution_count": 3,
     "metadata": {},
     "output_type": "execute_result"
    }
   ],
   "source": [
    "# load params file\n",
    "params = pickle.load(open(join(variant_dir, 'params.pkl'), 'rb'))\n",
    "params.keys()"
   ]
  },
  {
   "cell_type": "code",
   "execution_count": 4,
   "metadata": {},
   "outputs": [
    {
     "data": {
      "text/plain": [
       "(10, 10)"
      ]
     },
     "execution_count": 4,
     "metadata": {},
     "output_type": "execute_result"
    }
   ],
   "source": [
    "qfs = params['trainer/qf']\n",
    "qfs.eval()\n",
    "env = params['exploration/env']\n",
    "visit_count = env.visit_count.copy()\n",
    "visit_count.shape"
   ]
  },
  {
   "cell_type": "code",
   "execution_count": 5,
   "metadata": {},
   "outputs": [],
   "source": [
    "def get_obs(env):\n",
    "    img = env.get_img(onehot=env.one_hot_obs)\n",
    "    full_img = env.get_full_img(scale=1 if env.fully_observed else 1 / 8, onehot=env.one_hot_obs)\n",
    "\n",
    "    if env.fully_observed:\n",
    "        obs = np.concatenate((full_img.flatten(), np.array(env.agent_pos)))\n",
    "    elif env.only_partial_obs:\n",
    "        obs = img.flatten()\n",
    "    else:\n",
    "        obs = np.concatenate((img.flatten(), full_img.flatten()))\n",
    "    return obs"
   ]
  },
  {
   "cell_type": "code",
   "execution_count": 6,
   "metadata": {},
   "outputs": [],
   "source": [
    "# loop over the grid to produce each possible state, and collect q-values\n",
    "device = torch.device(\"cuda:0\" if torch.cuda.is_available() else \"cpu\")\n",
    "# q function\n",
    "qs = np.zeros((len(qfs), env.grid_size, env.grid_size, len(env.actions)))\n",
    "for i in range(1, env.grid_size-1):\n",
    "    for j in range(1, env.grid_size-1):\n",
    "        if env.grid.get(i, j) is None:\n",
    "            env.agent_pos = np.array([i, j])\n",
    "            obs = get_obs(env)\n",
    "            obs = torch.from_numpy(obs).detach().float().to(device)\n",
    "            for idx, qf in enumerate(qfs):\n",
    "                q = qf(obs)\n",
    "                # reverse i and j due to minigrid's swapped coord system\n",
    "                qs[idx, j, i] = q.cpu().detach()\n",
    "# value function\n",
    "vs = np.amax(qs, axis=3)"
   ]
  },
  {
   "cell_type": "code",
   "execution_count": 7,
   "metadata": {
    "scrolled": false
   },
   "outputs": [
    {
     "data": {
      "text/plain": [
       "(10, 10)"
      ]
     },
     "execution_count": 7,
     "metadata": {},
     "output_type": "execute_result"
    }
   ],
   "source": [
    "variance_map = np.var(vs, axis=0)\n",
    "variance_map.shape"
   ]
  },
  {
   "cell_type": "code",
   "execution_count": 8,
   "metadata": {},
   "outputs": [
    {
     "data": {
      "text/plain": [
       "(10, 10)"
      ]
     },
     "execution_count": 8,
     "metadata": {},
     "output_type": "execute_result"
    }
   ],
   "source": [
    "exp_q = np.exp(qs)\n",
    "# sum over ensemble\n",
    "sum_q = exp_q.sum(0)\n",
    "log_q = np.log(sum_q)\n",
    "# max over actions\n",
    "lse_map = np.amax(log_q, axis=2)\n",
    "\n",
    "lse_map.shape"
   ]
  },
  {
   "cell_type": "code",
   "execution_count": 9,
   "metadata": {},
   "outputs": [],
   "source": [
    "def trim(arr):\n",
    "    return arr[1:-1, 1:-1]\n",
    "\n",
    "visit_count = trim(visit_count)\n",
    "variance_map = trim(variance_map)\n",
    "lse_map = trim(lse_map)"
   ]
  },
  {
   "cell_type": "code",
   "execution_count": 10,
   "metadata": {},
   "outputs": [
    {
     "data": {
      "image/png": "[encoded data removed]",
      "text/plain": [
       "<Figure size 720x1080 with 3 Axes>"
      ]
     },
     "metadata": {},
     "output_type": "display_data"
    }
   ],
   "source": [
    "# plt.imshow(lse_map.T)\n",
    "# plt.title('LogSumExp of ensemble')\n",
    "# plt.show()\n",
    "\n",
    "# plt.imshow(variance_map.T)\n",
    "# plt.title('Variance of ensemble')\n",
    "# plt.show()\n",
    "\n",
    "# plt.imshow(visit_count)\n",
    "# plt.title('Visitation counts')\n",
    "# plt.show()\n",
    "\n",
    "fig, (ax1, ax2, ax3) = plt.subplots(1, 3, figsize=(10,15))\n",
    "\n",
    "ax1.set_title('LogSumExp value function')\n",
    "im1 = ax1.imshow(lse_map)\n",
    "\n",
    "ax2.set_title('Variance of ensemble')\n",
    "im2 = ax2.imshow(variance_map)\n",
    "\n",
    "ax3.set_title('Visitation counts')\n",
    "im3 = ax3.imshow(visit_count)\n"
   ]
  },
  {
   "cell_type": "code",
   "execution_count": 11,
   "metadata": {},
   "outputs": [
    {
     "data": {
      "image/png": "[encoded data removed]",
      "text/plain": [
       "<Figure size 432x288 with 1 Axes>"
      ]
     },
     "metadata": {},
     "output_type": "display_data"
    }
   ],
   "source": [
    "visit_count2 = visit_count.copy()\n",
    "visit_count2[0,7] = 0\n",
    "visit_count2[1,7] = 0\n",
    "visit_count2[0,6] = 0\n",
    "visit_count2[0,2] = 0\n",
    "plt.imshow(visit_count2)\n",
    "plt.title('Visitation counts excluding top 4 states')\n",
    "plt.show()"
   ]
  },
  {
   "cell_type": "code",
   "execution_count": null,
   "metadata": {},
   "outputs": [],
   "source": []
  },
  {
   "cell_type": "code",
   "execution_count": null,
   "metadata": {},
   "outputs": [],
   "source": []
  }
 ],
 "metadata": {
  "kernelspec": {
   "display_name": "Python 3",
   "language": "python",
   "name": "python3"
  },
  "language_info": {
   "codemirror_mode": {
    "name": "ipython",
    "version": 3
   },
   "file_extension": ".py",
   "mimetype": "text/x-python",
   "name": "python",
   "nbconvert_exporter": "python",
   "pygments_lexer": "ipython3",
   "version": "3.6.5"
  }
 },
 "nbformat": 4,
 "nbformat_minor": 2
}
