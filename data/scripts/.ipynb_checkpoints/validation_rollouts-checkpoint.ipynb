{
 "cells": [
  {
   "cell_type": "code",
   "execution_count": 1,
   "metadata": {},
   "outputs": [],
   "source": [
    "import os\n",
    "from os.path import join, basename, isfile\n",
    "import numpy as np\n",
    "%matplotlib inline\n",
    "import matplotlib.pyplot as plt\n",
    "from glob import glob\n",
    "import math\n",
    "from itertools import chain\n",
    "import json\n",
    "import pickle"
   ]
  },
  {
   "cell_type": "code",
   "execution_count": 2,
   "metadata": {},
   "outputs": [],
   "source": [
    "# CONSTS\n",
    "proj_dir = '/home/suvansh/levine/continualrl/'\n",
    "data_dir = join(proj_dir, 'data')\n",
    "NUM_EPOCH_CONST = 2000"
   ]
  },
  {
   "cell_type": "code",
   "execution_count": 3,
   "metadata": {},
   "outputs": [],
   "source": [
    "# INPUTS\n",
    "exp_prefix = '09-22-07-tool-dqn-env-shaping-distance-increase-deer'\n",
    "exps_dir = join(data_dir, exp_prefix)\n",
    "# empty seeds list to do all. otherwise list of lists, where inner lists group diff seeds of same exp\n",
    "# resetfree wall axe\n",
    "#seeds = [[51947,52881,12644], [62475,67891,54029], [50059,13719,13246], [63674,58157,44467], [42715,86348,5663]]\n",
    "# reset wall axe\n",
    "#seeds = [[14385,49349,13272], [26671,88259,1725], [48810,2035], [51138,45712,94418], [75533,26175,18905]]\n",
    "# resetfree deer\n",
    "seeds = [[36188,15142,63542], [31970,46911,65753], [53370,70088,99247], [66452,91302,9412], [33775,75419,83234]]\n",
    "# reset deer\n",
    "#seeds = [[3610,44260,64924], [14757,65465,96399], [10252,41277,44729], [20878,72437,7459], [40095,53219,97867]]\n",
    "# titles of exps in positions corresponding to those in `seeds`\n",
    "titles = ['Distance reward shaping', 'One-Time reward shaping', 'No shaping', 'Environment shaping', 'Env shaping with subgoal reward']\n",
    "save_suffix = 'resetfree'\n",
    "save_dir = 'deer_shaping'\n",
    "num_viz = 4\n",
    "# how often the visit counts were saved\n",
    "visit_period = 100"
   ]
  },
  {
   "cell_type": "code",
   "execution_count": 6,
   "metadata": {},
   "outputs": [],
   "source": [
    "# load variant and get pickled validation envs\n",
    "\n",
    "rand_exp_dir = glob(join(exps_dir, '*'))[0]\n",
    "with open(join(rand_exp_dir, 'variant.json'), 'r') as f:\n",
    "    variant = json.load(f)\n",
    "val_envs_path = variant['algo_kwargs']['algorithm_kwargs']['validation_envs_pkl']\n",
    "with open(val_envs_path, 'rb') as f:\n",
    "    val_envs = pickle.load(f)['envs']"
   ]
  },
  {
   "cell_type": "code",
   "execution_count": 10,
   "metadata": {},
   "outputs": [
    {
     "name": "stdout",
     "output_type": "stream",
     "text": [
      "[36188, 15142, 63542]\n"
     ]
    },
    {
     "ename": "TypeError",
     "evalue": "%d format: a number is required, not list",
     "output_type": "error",
     "traceback": [
      "\u001b[0;31m---------------------------------------------------------------------------\u001b[0m",
      "\u001b[0;31mTypeError\u001b[0m                                 Traceback (most recent call last)",
      "\u001b[0;32m<ipython-input-10-7263fecd3589>\u001b[0m in \u001b[0;36m<module>\u001b[0;34m\u001b[0m\n\u001b[1;32m      3\u001b[0m \u001b[0;32mfor\u001b[0m \u001b[0mseed_idx\u001b[0m\u001b[0;34m,\u001b[0m \u001b[0mseed\u001b[0m \u001b[0;32min\u001b[0m \u001b[0menumerate\u001b[0m\u001b[0;34m(\u001b[0m\u001b[0mseeds\u001b[0m\u001b[0;34m)\u001b[0m\u001b[0;34m:\u001b[0m\u001b[0;34m\u001b[0m\u001b[0m\n\u001b[1;32m      4\u001b[0m     \u001b[0mprint\u001b[0m\u001b[0;34m(\u001b[0m\u001b[0mseed\u001b[0m\u001b[0;34m)\u001b[0m\u001b[0;34m\u001b[0m\u001b[0m\n\u001b[0;32m----> 5\u001b[0;31m     \u001b[0mexp_dir\u001b[0m \u001b[0;34m=\u001b[0m \u001b[0mglob\u001b[0m\u001b[0;34m(\u001b[0m\u001b[0mjoin\u001b[0m\u001b[0;34m(\u001b[0m\u001b[0mexps_dir\u001b[0m\u001b[0;34m,\u001b[0m \u001b[0;34m'*%d'\u001b[0m \u001b[0;34m%\u001b[0m \u001b[0mseed\u001b[0m\u001b[0;34m)\u001b[0m\u001b[0;34m)\u001b[0m\u001b[0;34m[\u001b[0m\u001b[0;36m0\u001b[0m\u001b[0;34m]\u001b[0m\u001b[0;34m\u001b[0m\u001b[0m\n\u001b[0m\u001b[1;32m      6\u001b[0m     \u001b[0mmax_pol_file\u001b[0m \u001b[0;34m=\u001b[0m \u001b[0mmax\u001b[0m\u001b[0;34m(\u001b[0m\u001b[0mglob\u001b[0m\u001b[0;34m(\u001b[0m\u001b[0mjoin\u001b[0m\u001b[0;34m(\u001b[0m\u001b[0mexp_dir\u001b[0m\u001b[0;34m,\u001b[0m \u001b[0;34m'itr_*.pkl'\u001b[0m\u001b[0;34m)\u001b[0m\u001b[0;34m)\u001b[0m\u001b[0;34m,\u001b[0m \u001b[0mkey\u001b[0m\u001b[0;34m=\u001b[0m\u001b[0;32mlambda\u001b[0m \u001b[0mpol_path\u001b[0m\u001b[0;34m:\u001b[0m \u001b[0mint\u001b[0m\u001b[0;34m(\u001b[0m\u001b[0mbasename\u001b[0m\u001b[0;34m(\u001b[0m\u001b[0mpol_path\u001b[0m\u001b[0;34m)\u001b[0m\u001b[0;34m[\u001b[0m\u001b[0;36m4\u001b[0m\u001b[0;34m:\u001b[0m\u001b[0;34m-\u001b[0m\u001b[0;36m4\u001b[0m\u001b[0;34m]\u001b[0m\u001b[0;34m)\u001b[0m\u001b[0;34m)\u001b[0m\u001b[0;34m\u001b[0m\u001b[0m\n\u001b[1;32m      7\u001b[0m     \u001b[0;32mwith\u001b[0m \u001b[0mopen\u001b[0m\u001b[0;34m(\u001b[0m\u001b[0mmax_pol_file\u001b[0m\u001b[0;34m,\u001b[0m \u001b[0;34m'rb'\u001b[0m\u001b[0;34m)\u001b[0m \u001b[0;32mas\u001b[0m \u001b[0mf\u001b[0m\u001b[0;34m:\u001b[0m\u001b[0;34m\u001b[0m\u001b[0m\n",
      "\u001b[0;31mTypeError\u001b[0m: %d format: a number is required, not list"
     ]
    }
   ],
   "source": [
    "# load policy\n",
    "\n",
    "for seed_idx, seed in enumerate(seeds):\n",
    "    exp_dir = glob(join(exps_dir, '*%d' % seed))[0]\n",
    "    max_pol_file = max(glob(join(exp_dir, 'itr_*.pkl')), key=lambda pol_path: int(basename(pol_path)[4:-4]))\n",
    "    with open(max_pol_file, 'rb') as f:\n",
    "        policy = pickle.load(f)"
   ]
  },
  {
   "cell_type": "code",
   "execution_count": null,
   "metadata": {},
   "outputs": [],
   "source": []
  }
 ],
 "metadata": {
  "kernelspec": {
   "display_name": "Python 3",
   "language": "python",
   "name": "python3"
  },
  "language_info": {
   "codemirror_mode": {
    "name": "ipython",
    "version": 3
   },
   "file_extension": ".py",
   "mimetype": "text/x-python",
   "name": "python",
   "nbconvert_exporter": "python",
   "pygments_lexer": "ipython3",
   "version": "3.6.5"
  }
 },
 "nbformat": 4,
 "nbformat_minor": 2
}
