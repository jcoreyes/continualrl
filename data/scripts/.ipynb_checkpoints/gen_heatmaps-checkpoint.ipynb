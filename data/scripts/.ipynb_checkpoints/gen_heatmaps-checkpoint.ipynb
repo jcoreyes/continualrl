{
 "cells": [
  {
   "cell_type": "code",
   "execution_count": 1,
   "metadata": {},
   "outputs": [],
   "source": [
    "import os\n",
    "from os.path import join, basename, isfile\n",
    "import numpy as np\n",
    "%matplotlib inline\n",
    "import matplotlib.pyplot as plt\n",
    "from glob import glob\n",
    "import math\n",
    "from itertools import chain\n",
    "import datetime"
   ]
  },
  {
   "cell_type": "code",
   "execution_count": 2,
   "metadata": {},
   "outputs": [],
   "source": [
    "# CONSTS\n",
    "proj_dir = '/home/suvansh/levine/continualrl/'\n",
    "data_dir = join(proj_dir, 'data')\n",
    "NUM_EPOCH_CONST = 2000"
   ]
  },
  {
   "cell_type": "code",
   "execution_count": 6,
   "metadata": {},
   "outputs": [],
   "source": [
    "# INPUTS\n",
    "\n",
    "exp_prefix = '10-04-01-tool-dqn-dynamic-static-resetfree'\n",
    "exps_dir = join(data_dir, exp_prefix)\n",
    "# empty seeds list to do all. otherwise list of lists, where inner lists group diff seeds of same exp\n",
    "\n",
    "# resetfree wall axe\n",
    "#seeds = [[51947,52881,12644], [62475,67891,54029], [50059,13719,13246], [63674,58157,44467], [42715,86348,5663]]\n",
    "# reset wall axe\n",
    "#seeds = [[14385,49349,13272], [26671,88259,1725], [48810,2035], [51138,45712,94418], [75533,26175,18905]]\n",
    "# resetfree deer\n",
    "# seeds = [[36188,15142,63542], [31970,46911,65753], [53370,70088,99247], [66452,91302,9412], [33775,75419,83234]]\n",
    "# reset deer\n",
    "#seeds = [[3610,44260,64924], [14757,65465,96399], [10252,41277,44729], [20878,72437,7459], [40095,53219,97867]]\n",
    "\n",
    "seeds = [[49019, 32127], [27923, 43916, 95792]]\n",
    "\n",
    "# titles of exps in positions corresponding to those in `seeds`\n",
    "titles = ['Resource Probability 0.1', 'Static']\n",
    "save_suffix = 'resetfree'\n",
    "save_dir = 'axe_dynstat'\n",
    "num_viz = 4\n",
    "# how often the visit counts were saved\n",
    "visit_period = 100"
   ]
  },
  {
   "cell_type": "code",
   "execution_count": 7,
   "metadata": {},
   "outputs": [],
   "source": [
    "save_dir = join('heatmaps', save_dir)\n",
    "os.makedirs(save_dir, exist_ok=True)"
   ]
  },
  {
   "cell_type": "code",
   "execution_count": 8,
   "metadata": {},
   "outputs": [],
   "source": [
    "def roundup(x, period):\n",
    "    return int(math.ceil(x / period)) * period\n",
    "\n",
    "def get_epoch(max_epoch, num_viz, i, visit_period):\n",
    "    return min(roundup(max_epoch // (num_viz - 1) * i, visit_period), max_epoch) if num_viz > 1 else max_epoch"
   ]
  },
  {
   "cell_type": "code",
   "execution_count": 9,
   "metadata": {},
   "outputs": [
    {
     "ename": "TypeError",
     "evalue": "Invalid dimensions for image data",
     "output_type": "error",
     "traceback": [
      "\u001b[0;31m---------------------------------------------------------------------------\u001b[0m",
      "\u001b[0;31mTypeError\u001b[0m                                 Traceback (most recent call last)",
      "\u001b[0;32m<ipython-input-9-f5b53a9a8d16>\u001b[0m in \u001b[0;36m<module>\u001b[0;34m\u001b[0m\n\u001b[1;32m     44\u001b[0m         \u001b[0;32mfor\u001b[0m \u001b[0mi\u001b[0m\u001b[0;34m,\u001b[0m \u001b[0ms\u001b[0m \u001b[0;32min\u001b[0m \u001b[0menumerate\u001b[0m\u001b[0;34m(\u001b[0m\u001b[0msums\u001b[0m\u001b[0;34m)\u001b[0m\u001b[0;34m:\u001b[0m\u001b[0;34m\u001b[0m\u001b[0m\n\u001b[1;32m     45\u001b[0m             \u001b[0maxes\u001b[0m\u001b[0;34m[\u001b[0m\u001b[0mi\u001b[0m\u001b[0;34m]\u001b[0m\u001b[0;34m.\u001b[0m\u001b[0mset_title\u001b[0m\u001b[0;34m(\u001b[0m\u001b[0;34m'Epoch %d'\u001b[0m \u001b[0;34m%\u001b[0m \u001b[0mget_epoch\u001b[0m\u001b[0;34m(\u001b[0m\u001b[0mNUM_EPOCH_CONST\u001b[0m\u001b[0;34m,\u001b[0m \u001b[0mnum_viz\u001b[0m\u001b[0;34m,\u001b[0m \u001b[0mi\u001b[0m\u001b[0;34m,\u001b[0m \u001b[0mvisit_period\u001b[0m\u001b[0;34m)\u001b[0m\u001b[0;34m,\u001b[0m \u001b[0mfontsize\u001b[0m\u001b[0;34m=\u001b[0m\u001b[0;36m18\u001b[0m\u001b[0;34m)\u001b[0m\u001b[0;34m\u001b[0m\u001b[0m\n\u001b[0;32m---> 46\u001b[0;31m             \u001b[0maxes\u001b[0m\u001b[0;34m[\u001b[0m\u001b[0mi\u001b[0m\u001b[0;34m]\u001b[0m\u001b[0;34m.\u001b[0m\u001b[0mimshow\u001b[0m\u001b[0;34m(\u001b[0m\u001b[0ms\u001b[0m\u001b[0;34m)\u001b[0m\u001b[0;34m\u001b[0m\u001b[0m\n\u001b[0m\u001b[1;32m     47\u001b[0m             \u001b[0maxes\u001b[0m\u001b[0;34m[\u001b[0m\u001b[0mi\u001b[0m\u001b[0;34m]\u001b[0m\u001b[0;34m.\u001b[0m\u001b[0mset_xticks\u001b[0m\u001b[0;34m(\u001b[0m\u001b[0;34m[\u001b[0m\u001b[0;34m]\u001b[0m\u001b[0;34m)\u001b[0m\u001b[0;34m\u001b[0m\u001b[0m\n\u001b[1;32m     48\u001b[0m             \u001b[0maxes\u001b[0m\u001b[0;34m[\u001b[0m\u001b[0mi\u001b[0m\u001b[0;34m]\u001b[0m\u001b[0;34m.\u001b[0m\u001b[0mset_yticks\u001b[0m\u001b[0;34m(\u001b[0m\u001b[0;34m[\u001b[0m\u001b[0;34m]\u001b[0m\u001b[0;34m)\u001b[0m\u001b[0;34m\u001b[0m\u001b[0m\n",
      "\u001b[0;32m~/anaconda3/lib/python3.6/site-packages/matplotlib/__init__.py\u001b[0m in \u001b[0;36minner\u001b[0;34m(ax, data, *args, **kwargs)\u001b[0m\n\u001b[1;32m   1808\u001b[0m                         \u001b[0;34m\"the Matplotlib list!)\"\u001b[0m \u001b[0;34m%\u001b[0m \u001b[0;34m(\u001b[0m\u001b[0mlabel_namer\u001b[0m\u001b[0;34m,\u001b[0m \u001b[0mfunc\u001b[0m\u001b[0;34m.\u001b[0m\u001b[0m__name__\u001b[0m\u001b[0;34m)\u001b[0m\u001b[0;34m,\u001b[0m\u001b[0;34m\u001b[0m\u001b[0m\n\u001b[1;32m   1809\u001b[0m                         RuntimeWarning, stacklevel=2)\n\u001b[0;32m-> 1810\u001b[0;31m             \u001b[0;32mreturn\u001b[0m \u001b[0mfunc\u001b[0m\u001b[0;34m(\u001b[0m\u001b[0max\u001b[0m\u001b[0;34m,\u001b[0m \u001b[0;34m*\u001b[0m\u001b[0margs\u001b[0m\u001b[0;34m,\u001b[0m \u001b[0;34m**\u001b[0m\u001b[0mkwargs\u001b[0m\u001b[0;34m)\u001b[0m\u001b[0;34m\u001b[0m\u001b[0m\n\u001b[0m\u001b[1;32m   1811\u001b[0m \u001b[0;34m\u001b[0m\u001b[0m\n\u001b[1;32m   1812\u001b[0m         inner.__doc__ = _add_data_doc(inner.__doc__,\n",
      "\u001b[0;32m~/anaconda3/lib/python3.6/site-packages/matplotlib/axes/_axes.py\u001b[0m in \u001b[0;36mimshow\u001b[0;34m(self, X, cmap, norm, aspect, interpolation, alpha, vmin, vmax, origin, extent, shape, filternorm, filterrad, imlim, resample, url, **kwargs)\u001b[0m\n\u001b[1;32m   5492\u001b[0m                               resample=resample, **kwargs)\n\u001b[1;32m   5493\u001b[0m \u001b[0;34m\u001b[0m\u001b[0m\n\u001b[0;32m-> 5494\u001b[0;31m         \u001b[0mim\u001b[0m\u001b[0;34m.\u001b[0m\u001b[0mset_data\u001b[0m\u001b[0;34m(\u001b[0m\u001b[0mX\u001b[0m\u001b[0;34m)\u001b[0m\u001b[0;34m\u001b[0m\u001b[0m\n\u001b[0m\u001b[1;32m   5495\u001b[0m         \u001b[0mim\u001b[0m\u001b[0;34m.\u001b[0m\u001b[0mset_alpha\u001b[0m\u001b[0;34m(\u001b[0m\u001b[0malpha\u001b[0m\u001b[0;34m)\u001b[0m\u001b[0;34m\u001b[0m\u001b[0m\n\u001b[1;32m   5496\u001b[0m         \u001b[0;32mif\u001b[0m \u001b[0mim\u001b[0m\u001b[0;34m.\u001b[0m\u001b[0mget_clip_path\u001b[0m\u001b[0;34m(\u001b[0m\u001b[0;34m)\u001b[0m \u001b[0;32mis\u001b[0m \u001b[0;32mNone\u001b[0m\u001b[0;34m:\u001b[0m\u001b[0;34m\u001b[0m\u001b[0m\n",
      "\u001b[0;32m~/anaconda3/lib/python3.6/site-packages/matplotlib/image.py\u001b[0m in \u001b[0;36mset_data\u001b[0;34m(self, A)\u001b[0m\n\u001b[1;32m    636\u001b[0m         if not (self._A.ndim == 2\n\u001b[1;32m    637\u001b[0m                 or self._A.ndim == 3 and self._A.shape[-1] in [3, 4]):\n\u001b[0;32m--> 638\u001b[0;31m             \u001b[0;32mraise\u001b[0m \u001b[0mTypeError\u001b[0m\u001b[0;34m(\u001b[0m\u001b[0;34m\"Invalid dimensions for image data\"\u001b[0m\u001b[0;34m)\u001b[0m\u001b[0;34m\u001b[0m\u001b[0m\n\u001b[0m\u001b[1;32m    639\u001b[0m \u001b[0;34m\u001b[0m\u001b[0m\n\u001b[1;32m    640\u001b[0m         \u001b[0;32mif\u001b[0m \u001b[0mself\u001b[0m\u001b[0;34m.\u001b[0m\u001b[0m_A\u001b[0m\u001b[0;34m.\u001b[0m\u001b[0mndim\u001b[0m \u001b[0;34m==\u001b[0m \u001b[0;36m3\u001b[0m\u001b[0;34m:\u001b[0m\u001b[0;34m\u001b[0m\u001b[0m\n",
      "\u001b[0;31mTypeError\u001b[0m: Invalid dimensions for image data"
     ]
    },
    {
     "data": {
      "image/png": "[encoded data removed]",
      "text/plain": [
       "<Figure size 1080x288 with 4 Axes>"
      ]
     },
     "metadata": {},
     "output_type": "display_data"
    }
   ],
   "source": [
    "dirpath, dirnames, _ = next(os.walk(exps_dir))\n",
    "\n",
    "if not seeds:\n",
    "    for exp_dir in dirnames:\n",
    "        # plotting setup\n",
    "        fig, axes = plt.subplots(1, num_viz, figsize=(10,60))\n",
    "        plt.subplots_adjust(hspace=0.001)\n",
    "\n",
    "        full_path = join(dirpath, exp_dir)\n",
    "        print(exp_dir)\n",
    "        visit_files = glob(join(full_path, 'visit_*.npy'))\n",
    "        if not visit_files:\n",
    "            continue\n",
    "        max_epoch_file = max(visit_files, key=lambda f: int(basename(f)[6:-4]))\n",
    "        max_epoch = int(basename(max_epoch_file)[6:-4])\n",
    "        for i in range(num_viz):\n",
    "            epoch = get_epoch(max_epoch, num_viz, i, visit_period)\n",
    "            visit_count = np.load(join(full_path, 'visit_%d.npy' % epoch))\n",
    "            axes[i].set_title('Epoch %d' % (epoch // 10))\n",
    "            axes[i].imshow(visit_count)\n",
    "        # TODO save `fig`\n",
    "else:\n",
    "    for sg_idx, seed_group in enumerate(seeds):\n",
    "        visit_counts = [[] for _ in range(num_viz)]\n",
    "        for seed in seed_group:\n",
    "            exp_dir = glob(join(exps_dir, '*%d' % seed))[0]\n",
    "            \n",
    "#             visit_files = glob(join(exp_dir, 'visit_*.npy'))\n",
    "#             if not visit_files:\n",
    "#                 continue\n",
    "#             max_epoch_file = max(visit_files, key=lambda f: int(basename(f)[6:-4]))\n",
    "#             max_epoch = int(basename(max_epoch_file)[6:-4])\n",
    "#             print(max_epoch)\n",
    "            \n",
    "            for i in range(num_viz):\n",
    "                epoch = get_epoch(NUM_EPOCH_CONST, num_viz, i, visit_period)\n",
    "                visit_path = join(exp_dir, 'visit_%d.npy' % epoch)\n",
    "                if not isfile(visit_path):\n",
    "                    continue\n",
    "                visit_count = np.load(visit_path)\n",
    "                visit_counts[i].append(visit_count)\n",
    "        sums = [sum(vc) for vc in visit_counts]\n",
    "        fig, axes = plt.subplots(1, num_viz, figsize=(15,4))\n",
    "        for i, s in enumerate(sums):\n",
    "            axes[i].set_title('Epoch %d' % get_epoch(NUM_EPOCH_CONST, num_viz, i, visit_period), fontsize=18)\n",
    "            print(get_epoch(NUM_EPOCH_CONST, num_viz, i, visit_period))\n",
    "            axes[i].imshow(s)\n",
    "            axes[i].set_xticks([])\n",
    "            axes[i].set_yticks([])\n",
    "        fig.show()\n",
    "        fig.suptitle('State Visitation Count (%s)' % titles[sg_idx], fontsize=24)\n",
    "        plt.savefig(join(save_dir, '%s_%s_%s.png' % (titles[sg_idx], exp_prefix, save_suffix)), bbox_inches=0)"
   ]
  },
  {
   "cell_type": "code",
   "execution_count": null,
   "metadata": {},
   "outputs": [],
   "source": []
  },
  {
   "cell_type": "code",
   "execution_count": null,
   "metadata": {},
   "outputs": [],
   "source": []
  }
 ],
 "metadata": {
  "kernelspec": {
   "display_name": "Python 3",
   "language": "python",
   "name": "python3"
  },
  "language_info": {
   "codemirror_mode": {
    "name": "ipython",
    "version": 3
   },
   "file_extension": ".py",
   "mimetype": "text/x-python",
   "name": "python",
   "nbconvert_exporter": "python",
   "pygments_lexer": "ipython3",
   "version": "3.6.5"
  }
 },
 "nbformat": 4,
 "nbformat_minor": 2
}
